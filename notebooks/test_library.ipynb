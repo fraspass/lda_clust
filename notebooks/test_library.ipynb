{
 "cells": [
  {
   "cell_type": "code",
   "execution_count": 1,
   "metadata": {},
   "outputs": [
    {
     "name": "stderr",
     "output_type": "stream",
     "text": [
      "/Library/Frameworks/Python.framework/Versions/3.8/lib/python3.8/site-packages/gensim/similarities/__init__.py:15: UserWarning: The gensim.similarities.levenshtein submodule is disabled, because the optional Levenshtein package <https://pypi.org/project/python-Levenshtein/> is unavailable. Install Levenhstein (e.g. `pip install python-Levenshtein`) to suppress this warning.\n",
      "  warnings.warn(msg)\n"
     ]
    }
   ],
   "source": [
    "import lda_clust"
   ]
  },
  {
   "cell_type": "code",
   "execution_count": 2,
   "metadata": {},
   "outputs": [],
   "source": [
    "x = lda_clust.simulate_data(D=10, K=3, gamma=5, command_level_topics=False, secondary_topic=False, V=10, csi=10, omega=5)"
   ]
  },
  {
   "cell_type": "code",
   "execution_count": 3,
   "metadata": {},
   "outputs": [],
   "source": [
    "m = lda_clust.topic_model(W=x['w'], K=3, fixed_K = True, V=10, fixed_V=True, secondary_topic = True, \n",
    "            command_level_topics=True, H=3, fixed_H=True, gamma=1.0, eta=1.0)"
   ]
  },
  {
   "cell_type": "code",
   "execution_count": 4,
   "metadata": {},
   "outputs": [],
   "source": [
    "m.gensim_init()"
   ]
  },
  {
   "cell_type": "code",
   "execution_count": 5,
   "metadata": {},
   "outputs": [
    {
     "data": {
      "text/plain": [
       "{0: {0: array([0, 0, 0, 1, 1, 0, 0, 1]),\n",
       "  1: array([0, 0, 0, 0, 1, 1, 0, 1, 0]),\n",
       "  2: array([1, 0, 1, 0, 0, 0, 0, 0]),\n",
       "  3: array([1, 1]),\n",
       "  4: array([1, 0]),\n",
       "  5: array([1, 0, 0, 0]),\n",
       "  6: array([0, 0, 1, 1, 0, 0, 1]),\n",
       "  7: array([0, 0, 0, 0, 0, 0, 1, 0]),\n",
       "  8: array([0, 0, 1, 0, 0]),\n",
       "  9: array([1, 0, 1, 0, 1, 1]),\n",
       "  10: array([0, 0, 0, 1, 0, 0]),\n",
       "  11: array([0, 0, 0, 0, 1, 0])},\n",
       " 1: {0: array([0, 1, 1, 1, 0, 1]),\n",
       "  1: array([1, 1, 1, 0, 1, 0, 0, 0]),\n",
       "  2: array([1, 1, 0, 1, 0, 1, 1, 0]),\n",
       "  3: array([1, 0, 0, 1, 1]),\n",
       "  4: array([1, 1, 0, 1, 1, 1]),\n",
       "  5: array([0, 0, 1, 1, 1, 0]),\n",
       "  6: array([1, 1, 0, 1]),\n",
       "  7: array([0, 1, 1, 1]),\n",
       "  8: array([0, 1, 0, 0, 0, 1]),\n",
       "  9: array([0, 0, 0, 1, 1, 1, 0])},\n",
       " 2: {0: array([0, 1, 0, 1, 1, 0]),\n",
       "  1: array([0, 1, 1, 0, 0, 0]),\n",
       "  2: array([0, 0, 1, 1, 1, 0, 1, 1, 0, 1]),\n",
       "  3: array([1, 1, 0, 0, 1, 1]),\n",
       "  4: array([1, 1, 0]),\n",
       "  5: array([1, 1, 1, 0]),\n",
       "  6: array([0, 1, 1]),\n",
       "  7: array([1, 0, 1, 0, 1, 0, 1, 1, 1]),\n",
       "  8: array([1, 1, 1])},\n",
       " 3: {0: array([0, 0, 1, 0, 0, 1, 1, 0]),\n",
       "  1: array([1, 0, 1, 0, 0, 0, 1]),\n",
       "  2: array([0, 1, 0, 0]),\n",
       "  3: array([0, 0, 0, 0, 0]),\n",
       "  4: array([1, 0, 1, 0, 0, 1]),\n",
       "  5: array([1, 1, 1, 0, 1, 1, 0, 0, 1]),\n",
       "  6: array([1, 1, 0, 1, 0, 1, 0, 1]),\n",
       "  7: array([0, 0, 1])},\n",
       " 4: {0: array([1, 0, 0, 1, 0, 1]),\n",
       "  1: array([1, 1, 1, 1, 1, 1, 1, 0, 1]),\n",
       "  2: array([1, 1, 1, 0, 1, 1, 1, 0]),\n",
       "  3: array([0, 1, 1, 1, 1, 0, 0, 0]),\n",
       "  4: array([0, 0, 1, 0, 0, 0]),\n",
       "  5: array([1, 1, 0, 0])},\n",
       " 5: {0: array([1, 1, 0, 0, 0, 0]),\n",
       "  1: array([0, 1, 0, 0, 0]),\n",
       "  2: array([1, 1, 1, 0, 0, 1]),\n",
       "  3: array([0, 0, 1, 0, 0]),\n",
       "  4: array([1, 0, 1, 0, 0]),\n",
       "  5: array([0, 1, 1]),\n",
       "  6: array([1, 0, 0, 0, 0, 0]),\n",
       "  7: array([0, 0, 0, 1, 1]),\n",
       "  8: array([0, 1, 0, 0, 0, 1]),\n",
       "  9: array([1, 0, 0, 0, 1, 0]),\n",
       "  10: array([0, 0]),\n",
       "  11: array([1, 0, 1, 0])},\n",
       " 6: {0: array([1, 0, 1, 0]),\n",
       "  1: array([1, 1, 1, 0, 0, 1, 1, 1, 1, 0, 1]),\n",
       "  2: array([1, 1, 1, 1, 1, 1]),\n",
       "  3: array([1, 0, 1, 1, 1, 1, 1, 1]),\n",
       "  4: array([1, 1, 1, 0, 0, 0, 0, 0]),\n",
       "  5: array([1, 0, 1, 1]),\n",
       "  6: array([1, 1, 1, 0]),\n",
       "  7: array([1, 1, 0, 0, 0, 0, 0]),\n",
       "  8: array([0, 1, 1, 0, 1]),\n",
       "  9: array([0, 0, 1, 1, 1, 1, 1, 0]),\n",
       "  10: array([1, 1, 1, 1, 1])},\n",
       " 7: {0: array([1, 1, 1]),\n",
       "  1: array([1, 1, 1, 0, 1, 0, 1]),\n",
       "  2: array([1, 1]),\n",
       "  3: array([1, 1, 0, 0, 1, 0]),\n",
       "  4: array([1, 1, 0, 1, 1, 0]),\n",
       "  5: array([0, 1, 1]),\n",
       "  6: array([1, 1, 0, 0]),\n",
       "  7: array([0, 0, 1, 1, 0, 0, 1, 1, 1, 1]),\n",
       "  8: array([0, 1, 0, 1, 0]),\n",
       "  9: array([1, 0, 1, 0, 0, 0, 0, 0]),\n",
       "  10: array([0, 1, 0, 0]),\n",
       "  11: array([0, 1, 0])},\n",
       " 8: {0: array([1, 0, 0, 0, 1]),\n",
       "  1: array([1, 0, 0, 1, 0, 0]),\n",
       "  2: array([0, 0]),\n",
       "  3: array([1, 1, 1, 1, 1, 1, 1, 0, 1]),\n",
       "  4: array([1, 1, 1, 0, 0, 1, 1, 0]),\n",
       "  5: array([1, 1, 1, 0, 0, 1, 0]),\n",
       "  6: array([1, 0, 0, 0, 0]),\n",
       "  7: array([1, 0, 0, 0, 0, 1, 0, 0]),\n",
       "  8: array([1, 1, 1, 0, 0, 0, 1]),\n",
       "  9: array([0, 1, 1, 1, 1, 1, 1, 1])},\n",
       " 9: {0: array([1, 1, 1, 1, 1, 1]),\n",
       "  1: array([0, 1, 0, 0, 1, 1]),\n",
       "  2: array([1, 0, 0, 1, 0, 0, 0, 0]),\n",
       "  3: array([0, 1]),\n",
       "  4: array([1, 0, 0, 1, 0, 1]),\n",
       "  5: array([1, 1, 0, 1, 0, 1, 0, 0]),\n",
       "  6: array([0, 0, 1, 0]),\n",
       "  7: array([0, 0, 1, 1, 1]),\n",
       "  8: array([1, 0, 1, 0]),\n",
       "  9: array([1, 0, 0, 0, 0, 0, 0, 1])}}"
      ]
     },
     "execution_count": 5,
     "metadata": {},
     "output_type": "execute_result"
    }
   ],
   "source": [
    "m.z"
   ]
  }
 ],
 "metadata": {
  "kernelspec": {
   "display_name": "Python 3",
   "language": "python",
   "name": "python3"
  },
  "language_info": {
   "codemirror_mode": {
    "name": "ipython",
    "version": 3
   },
   "file_extension": ".py",
   "mimetype": "text/x-python",
   "name": "python",
   "nbconvert_exporter": "python",
   "pygments_lexer": "ipython3",
   "version": "3.8.0"
  }
 },
 "nbformat": 4,
 "nbformat_minor": 2
}
