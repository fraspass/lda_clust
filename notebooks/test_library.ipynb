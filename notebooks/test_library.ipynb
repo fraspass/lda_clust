{
 "cells": [
  {
   "cell_type": "code",
   "execution_count": 1,
   "metadata": {},
   "outputs": [],
   "source": [
    "import lda_clust"
   ]
  },
  {
   "cell_type": "code",
   "execution_count": 2,
   "metadata": {},
   "outputs": [],
   "source": [
    "x =lda_clust.simulate_data(D=200, K=3, gamma=5, command_level_topics=False, secondary_topic=False, V=10, csi=10, omega=5)"
   ]
  },
  {
   "cell_type": "code",
   "execution_count": 3,
   "metadata": {},
   "outputs": [],
   "source": [
    "m = lda_clust.topic_model(W=x['w'], K=20, fixed_K = True, V=10, fixed_V=True, secondary_topic=True, \n",
    "            command_level_topics=True, H=3, fixed_H=True, gamma=1.0, eta=1.0)"
   ]
  },
  {
   "cell_type": "code",
   "execution_count": 4,
   "metadata": {},
   "outputs": [],
   "source": [
    "m.random_init()"
   ]
  },
  {
   "cell_type": "code",
   "execution_count": 5,
   "metadata": {},
   "outputs": [],
   "source": [
    "for _ in range(1000):\n",
    "    m.resample_session_topics()"
   ]
  },
  {
   "cell_type": "code",
   "execution_count": 6,
   "metadata": {},
   "outputs": [],
   "source": [
    "for _ in range(1000):\n",
    "    m.resample_indicators()"
   ]
  },
  {
   "cell_type": "code",
   "execution_count": 7,
   "metadata": {},
   "outputs": [],
   "source": [
    "for _ in range(1000):\n",
    "    m.resample_command_topics()"
   ]
  },
  {
   "cell_type": "code",
   "execution_count": 23,
   "metadata": {},
   "outputs": [],
   "source": [
    "for _ in range(10):\n",
    "    m.split_merge_session(random_allocation=True)"
   ]
  },
  {
   "cell_type": "code",
   "execution_count": 13,
   "metadata": {},
   "outputs": [],
   "source": [
    "for _ in range(10):\n",
    "    m.split_merge_command()"
   ]
  },
  {
   "cell_type": "code",
   "execution_count": 24,
   "metadata": {},
   "outputs": [
    {
     "data": {
      "text/plain": [
       "array([194,   0,   0,   0,   0,   0,   0,   0,   6,   0,   0,   0,   0,\n",
       "         0,   0,   0,   0,   0,   0,   0])"
      ]
     },
     "execution_count": 24,
     "metadata": {},
     "output_type": "execute_result"
    }
   ],
   "source": [
    "m.T"
   ]
  },
  {
   "cell_type": "code",
   "execution_count": null,
   "metadata": {},
   "outputs": [],
   "source": [
    "self.N_cumsum"
   ]
  },
  {
   "cell_type": "code",
   "execution_count": null,
   "metadata": {},
   "outputs": [],
   "source": [
    "indices_int"
   ]
  },
  {
   "cell_type": "code",
   "execution_count": null,
   "metadata": {},
   "outputs": [],
   "source": [
    "d, d_prime = np.random.choice(self.D, size=2, replace=False)"
   ]
  },
  {
   "cell_type": "code",
   "execution_count": null,
   "metadata": {},
   "outputs": [],
   "source": [
    "self.t[d] == self.t[d_prime]"
   ]
  },
  {
   "cell_type": "code",
   "execution_count": null,
   "metadata": {},
   "outputs": [],
   "source": [
    "if np.sum(self.T == 0) < self.K:\n",
    "                split = False\n",
    "                t = np.min([self.t[d],self.t[d_prime]])\n",
    "                t_ast = np.max([self.t[d],self.t[d_prime]])\n",
    "else:\n",
    "                boundary = True"
   ]
  },
  {
   "cell_type": "code",
   "execution_count": null,
   "metadata": {},
   "outputs": [],
   "source": [
    "# Merge move\n",
    "indices = np.where(np.logical_or(self.t == t, self.t == t_ast))[0]\n",
    "indices = indices[np.logical_and(indices != d, indices != d_prime)]\n",
    "T_prop = np.array([self.T[t] + self.T[t_ast],0])\n",
    "T_temp = np.ones(2)\n",
    "if self.command_level_topics:\n",
    "    S_prop = np.zeros((2,self.H)); S_prop[0] = self.S[t] + self.S[t_ast]\n",
    "    S_temp = np.zeros((2,self.H))\n",
    "    Q = Counter(self.s[d])\n",
    "    for h in Q:\n",
    "        S_temp[0,h] = Q[h]\n",
    "    Q = Counter(self.s[d_prime])\n",
    "    for h in Q:\n",
    "        S_temp[1,h] = Q[h]\n",
    "else:\n",
    "    W_prop = np.zeros((2,self.V)); W_prop[0] = self.W[t + (1 if self.secondary_topic else 0)] + self.W[t_ast + (1 if self.secondary_topic else 0)]\n",
    "    W_temp = np.zeros((2,self.V))\n",
    "    for j in self.w[d]:\n",
    "        Q = Counter(self.w[d][j] if not self.secondary_topic else self.w[d][j][self.z[d][j] == 1])\n",
    "        for v in Q:\n",
    "            W_temp[0,v] += Q[v] \n",
    "    for j in self.w[d_prime]:    \n",
    "        Q = Counter(self.w[d_prime][j] if not self.secondary_topic else self.w[d_prime][j][self.z[d_prime][j] == 1])\n",
    "        for v in Q:\n",
    "            W_temp[1,v] += Q[v] \n",
    "    if self.secondary_topic:\n",
    "        M_ast_prop = np.zeros(2); M_ast_prop[0] = self.M_star[t] + self.M_star[t_ast]\n",
    "        Z_prop = np.zeros(2); Z_prop[0] = self.Z[t] + self.Z[t_ast]\n",
    "        M_ast_temp = np.zeros(2); Z_temp = np.zeros(2)\n",
    "        for j in self.w[d]:\n",
    "            M_ast_temp[0] += self.M[d][j]\n",
    "            Z_temp[0] += np.sum(self.w[d][j])\n",
    "        for j in self.w[d_prime]:\n",
    "            M_ast_temp[1] += self.M[d_prime][j]\n",
    "            Z_temp[1] += np.sum(self.w[d_prime][j])"
   ]
  },
  {
   "cell_type": "code",
   "execution_count": null,
   "metadata": {},
   "outputs": [],
   "source": [
    "indices[0]"
   ]
  },
  {
   "cell_type": "code",
   "execution_count": null,
   "metadata": {},
   "outputs": [],
   "source": [
    "from collections import Counter\n",
    "from scipy.sparse import coo_matrix\n",
    "from scipy.sparse.linalg import svds\n",
    "from sklearn.cluster import KMeans"
   ]
  }
 ],
 "metadata": {
  "kernelspec": {
   "display_name": "Python 3",
   "language": "python",
   "name": "python3"
  },
  "language_info": {
   "codemirror_mode": {
    "name": "ipython",
    "version": 3
   },
   "file_extension": ".py",
   "mimetype": "text/x-python",
   "name": "python",
   "nbconvert_exporter": "python",
   "pygments_lexer": "ipython3",
   "version": "3.8.0"
  }
 },
 "nbformat": 4,
 "nbformat_minor": 2
}
