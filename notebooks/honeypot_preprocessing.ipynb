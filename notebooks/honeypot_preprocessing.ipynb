{
 "cells": [
  {
   "cell_type": "markdown",
   "metadata": {},
   "source": [
    "# Filtering the Honeypot data"
   ]
  },
  {
   "cell_type": "markdown",
   "metadata": {},
   "source": [
    "The data are not publicly available, but the publicly available repository https://github.com/microsoft/msticpy\n",
    "contains data similar in structure."
   ]
  },
  {
   "cell_type": "markdown",
   "metadata": {},
   "source": [
    "Import data:"
   ]
  },
  {
   "cell_type": "code",
   "execution_count": 1,
   "metadata": {},
   "outputs": [],
   "source": [
    "import json\n",
    "import codecs\n",
    "with codecs.open(\"../../../../home/hpms/Microsoft.IoT-Dump1.json\", \"r\",'utf-8-sig') as f:\n",
    "    data = json.load(f)"
   ]
  },
  {
   "cell_type": "markdown",
   "metadata": {},
   "source": [
    "Store data in a dataframe, add the commands to the dataframe, and remove duplicates:"
   ]
  },
  {
   "cell_type": "code",
   "execution_count": 2,
   "metadata": {},
   "outputs": [],
   "source": [
    "import pandas as pd\n",
    "data = pd.DataFrame(data)\n",
    "data[\"Commands\"] = [tuple(session) for session in data[\"Commands\"]]\n",
    "data = data.drop_duplicates(subset=\"Commands\").reset_index(drop=True)"
   ]
  },
  {
   "cell_type": "code",
   "execution_count": 3,
   "metadata": {},
   "outputs": [
    {
     "data": {
      "text/html": [
       "<div>\n",
       "<style scoped>\n",
       "    .dataframe tbody tr th:only-of-type {\n",
       "        vertical-align: middle;\n",
       "    }\n",
       "\n",
       "    .dataframe tbody tr th {\n",
       "        vertical-align: top;\n",
       "    }\n",
       "\n",
       "    .dataframe thead th {\n",
       "        text-align: right;\n",
       "    }\n",
       "</style>\n",
       "<table border=\"1\" class=\"dataframe\">\n",
       "  <thead>\n",
       "    <tr style=\"text-align: right;\">\n",
       "      <th></th>\n",
       "      <th>Protocol</th>\n",
       "      <th>Commands</th>\n",
       "      <th>ID</th>\n",
       "      <th>TimesSeen</th>\n",
       "      <th>FirstSeen</th>\n",
       "      <th>LastSeen</th>\n",
       "    </tr>\n",
       "  </thead>\n",
       "  <tbody>\n",
       "    <tr>\n",
       "      <th>0</th>\n",
       "      <td>Telnet</td>\n",
       "      <td>(sh, /bin/busybox Uirusu, /bin/busybox ps; /bi...</td>\n",
       "      <td>61130d46117b4caf96eec5b4a5b6e4a1141aaad3e9076d...</td>\n",
       "      <td>692977</td>\n",
       "      <td>2019-07-09T15:48:24.45</td>\n",
       "      <td>2019-11-06T11:22:03.877</td>\n",
       "    </tr>\n",
       "    <tr>\n",
       "      <th>1</th>\n",
       "      <td>Telnet</td>\n",
       "      <td>(sh, &gt;/tmp/.ptmx &amp;&amp; cd /tmp/, &gt;/var/.ptmx &amp;&amp; c...</td>\n",
       "      <td>285f4b2fc2ba5b1e737bc9002992a082008fe1361b334e...</td>\n",
       "      <td>43810830</td>\n",
       "      <td>2019-07-09T11:26:41.202</td>\n",
       "      <td>2019-11-06T11:20:48.611</td>\n",
       "    </tr>\n",
       "    <tr>\n",
       "      <th>2</th>\n",
       "      <td>Telnet</td>\n",
       "      <td>(enable, system, shell, sh, &gt;/tmp/.ptmx &amp;&amp; cd ...</td>\n",
       "      <td>c6a071d3d8c39c321b0313f103e736105093bf90324719...</td>\n",
       "      <td>29292349</td>\n",
       "      <td>2019-07-09T11:26:42.295</td>\n",
       "      <td>2019-11-06T11:20:46.809</td>\n",
       "    </tr>\n",
       "    <tr>\n",
       "      <th>3</th>\n",
       "      <td>Telnet</td>\n",
       "      <td>(enable, system, shell, sh, &gt;/tmp/.ptmx &amp;&amp; cd ...</td>\n",
       "      <td>d86e8e9f64827476f6f68292aa813561a9c764496b225b...</td>\n",
       "      <td>948780</td>\n",
       "      <td>2019-07-24T07:42:51.304</td>\n",
       "      <td>2019-11-06T11:21:47.753</td>\n",
       "    </tr>\n",
       "    <tr>\n",
       "      <th>4</th>\n",
       "      <td>Telnet</td>\n",
       "      <td>(sh, &gt;/tmp/.ptmx &amp;&amp; cd /tmp/, &gt;/var/.ptmx &amp;&amp; c...</td>\n",
       "      <td>5541980fb93d397260790b84a92bc38fed061cda4950f4...</td>\n",
       "      <td>1472177</td>\n",
       "      <td>2019-07-24T07:42:51.304</td>\n",
       "      <td>2019-11-06T11:21:54.94</td>\n",
       "    </tr>\n",
       "    <tr>\n",
       "      <th>5</th>\n",
       "      <td>Telnet</td>\n",
       "      <td>(sh, /bin/busybox Uirusu, /bin/busybox ps; /bi...</td>\n",
       "      <td>f226f536cff422996a9088f53ce6d72a10dbee2d588782...</td>\n",
       "      <td>1150187</td>\n",
       "      <td>2019-07-09T15:48:22.458</td>\n",
       "      <td>2019-11-06T11:21:57.666</td>\n",
       "    </tr>\n",
       "    <tr>\n",
       "      <th>6</th>\n",
       "      <td>Telnet</td>\n",
       "      <td>(enable, shell, sh, /bin/busybox Uirusu, /bin/...</td>\n",
       "      <td>025a1138007357965a26c7e37efa3f6f3f4ccc23b19689...</td>\n",
       "      <td>391946</td>\n",
       "      <td>2019-07-09T15:48:23.482</td>\n",
       "      <td>2019-11-06T11:21:39.712</td>\n",
       "    </tr>\n",
       "    <tr>\n",
       "      <th>7</th>\n",
       "      <td>Telnet</td>\n",
       "      <td>(enable, shell, sh, /bin/busybox Uirusu, /bin/...</td>\n",
       "      <td>85fc66c96f273c088b8fc75cb90b1a730df16f16040861...</td>\n",
       "      <td>670236</td>\n",
       "      <td>2019-07-09T15:48:22.418</td>\n",
       "      <td>2019-11-06T11:21:39.295</td>\n",
       "    </tr>\n",
       "    <tr>\n",
       "      <th>8</th>\n",
       "      <td>Telnet</td>\n",
       "      <td>(shell, sh, /bin/busybox SYLVEON)</td>\n",
       "      <td>768606ec3ac1dc459ef0011774026f34a03fd85a760629...</td>\n",
       "      <td>6409</td>\n",
       "      <td>2019-07-09T11:25:07.735</td>\n",
       "      <td>2019-11-06T11:19:03.974</td>\n",
       "    </tr>\n",
       "    <tr>\n",
       "      <th>9</th>\n",
       "      <td>Telnet</td>\n",
       "      <td>(sh, /bin/busybox Uirusu, /bin/busybox ps; /bi...</td>\n",
       "      <td>a64e084d790a44c4eb0905543359b41be107166f4727a9...</td>\n",
       "      <td>266</td>\n",
       "      <td>2019-11-02T10:28:28.417</td>\n",
       "      <td>2019-11-05T14:26:56.55</td>\n",
       "    </tr>\n",
       "  </tbody>\n",
       "</table>\n",
       "</div>"
      ],
      "text/plain": [
       "  Protocol                                           Commands  \\\n",
       "0   Telnet  (sh, /bin/busybox Uirusu, /bin/busybox ps; /bi...   \n",
       "1   Telnet  (sh, >/tmp/.ptmx && cd /tmp/, >/var/.ptmx && c...   \n",
       "2   Telnet  (enable, system, shell, sh, >/tmp/.ptmx && cd ...   \n",
       "3   Telnet  (enable, system, shell, sh, >/tmp/.ptmx && cd ...   \n",
       "4   Telnet  (sh, >/tmp/.ptmx && cd /tmp/, >/var/.ptmx && c...   \n",
       "5   Telnet  (sh, /bin/busybox Uirusu, /bin/busybox ps; /bi...   \n",
       "6   Telnet  (enable, shell, sh, /bin/busybox Uirusu, /bin/...   \n",
       "7   Telnet  (enable, shell, sh, /bin/busybox Uirusu, /bin/...   \n",
       "8   Telnet                  (shell, sh, /bin/busybox SYLVEON)   \n",
       "9   Telnet  (sh, /bin/busybox Uirusu, /bin/busybox ps; /bi...   \n",
       "\n",
       "                                                  ID  TimesSeen  \\\n",
       "0  61130d46117b4caf96eec5b4a5b6e4a1141aaad3e9076d...     692977   \n",
       "1  285f4b2fc2ba5b1e737bc9002992a082008fe1361b334e...   43810830   \n",
       "2  c6a071d3d8c39c321b0313f103e736105093bf90324719...   29292349   \n",
       "3  d86e8e9f64827476f6f68292aa813561a9c764496b225b...     948780   \n",
       "4  5541980fb93d397260790b84a92bc38fed061cda4950f4...    1472177   \n",
       "5  f226f536cff422996a9088f53ce6d72a10dbee2d588782...    1150187   \n",
       "6  025a1138007357965a26c7e37efa3f6f3f4ccc23b19689...     391946   \n",
       "7  85fc66c96f273c088b8fc75cb90b1a730df16f16040861...     670236   \n",
       "8  768606ec3ac1dc459ef0011774026f34a03fd85a760629...       6409   \n",
       "9  a64e084d790a44c4eb0905543359b41be107166f4727a9...        266   \n",
       "\n",
       "                 FirstSeen                 LastSeen  \n",
       "0   2019-07-09T15:48:24.45  2019-11-06T11:22:03.877  \n",
       "1  2019-07-09T11:26:41.202  2019-11-06T11:20:48.611  \n",
       "2  2019-07-09T11:26:42.295  2019-11-06T11:20:46.809  \n",
       "3  2019-07-24T07:42:51.304  2019-11-06T11:21:47.753  \n",
       "4  2019-07-24T07:42:51.304   2019-11-06T11:21:54.94  \n",
       "5  2019-07-09T15:48:22.458  2019-11-06T11:21:57.666  \n",
       "6  2019-07-09T15:48:23.482  2019-11-06T11:21:39.712  \n",
       "7  2019-07-09T15:48:22.418  2019-11-06T11:21:39.295  \n",
       "8  2019-07-09T11:25:07.735  2019-11-06T11:19:03.974  \n",
       "9  2019-11-02T10:28:28.417   2019-11-05T14:26:56.55  "
      ]
     },
     "execution_count": 3,
     "metadata": {},
     "output_type": "execute_result"
    }
   ],
   "source": [
    "data.head(10)"
   ]
  },
  {
   "cell_type": "markdown",
   "metadata": {},
   "source": [
    "Use the function `clean_commands` from `lda_clust`, which returns a list of lists with command strings as elements. The function also scraps the hostname from each URL observed in the data. "
   ]
  },
  {
   "cell_type": "code",
   "execution_count": 4,
   "metadata": {},
   "outputs": [],
   "source": [
    "import lda_clust\n",
    "data_clean = lda_clust.clean_commands(data, no_below=1, no_above=1.1)\n",
    "sessions_list = data_clean[0] # list of lists with elements command strings"
   ]
  },
  {
   "cell_type": "markdown",
   "metadata": {},
   "source": [
    "Remove empty commands and commands containing only a dot `.`. "
   ]
  },
  {
   "cell_type": "code",
   "execution_count": 5,
   "metadata": {},
   "outputs": [
    {
     "name": "stderr",
     "output_type": "stream",
     "text": [
      "100%|██████████| 124883/124883 [00:08<00:00, 14520.24it/s]\n"
     ]
    }
   ],
   "source": [
    "import tqdm\n",
    "# Remove empty commands ' ' and 'dot' commands '.'\n",
    "for i in tqdm.tqdm(range(len(sessions_list))):\n",
    "    sessions_list[i] = list(filter(lambda x: x != '', sessions_list[i]))\n",
    "    sessions_list[i] = list(filter(lambda x: x != '.', sessions_list[i]))"
   ]
  },
  {
   "cell_type": "markdown",
   "metadata": {},
   "source": [
    "Replace strings followed by random numbers with a unique string. "
   ]
  },
  {
   "cell_type": "code",
   "execution_count": 6,
   "metadata": {},
   "outputs": [],
   "source": [
    "replace_dic = {r\"AKEMI\\_[0-9]{4}\":\"AKEMI_num\",\n",
    "               r\"BOT_ID\\s[0-9]{4}\":\"BOT_ID num\",\n",
    "               r\"Ex0\\_[0-9]{4}\":\"Ex0_num\",\n",
    "               r\"HORIZON\\_[0-9]{4}\":\"HORIZON_num\",\n",
    "               r\"Hades\\_[0-9]{4}\":\"Hades_num\",\n",
    "               r\"Hikari\\_[0-9]{4}\":\"Hikari_num\",\n",
    "               r\"Kill\\_[0-9]{4}\":\"Kill_num\",\n",
    "               r\"Mewski\\_[0-9]{4}\":\"Mewski_num\",\n",
    "               r\"SEFA\\_ID\\s[0-9]{4}\":\"SEFA_ID num\",\n",
    "               r\"UNSTABLE\\_[0-9]{4}\":\"UNSTABLE_num\",\n",
    "               r\"WOLF\\_[0-9]{4}\":\"WOLF_num\",\n",
    "               r\"dstrtn\\_[0-9]{4}\":\"dstrtn_num\",\n",
    "               r\"hhh\\_lol\\s[0-9]{4}\":\"hhh_lol num\",\n",
    "               r\"orphic\\_[0-9]{4}\":\"orphic_num\",\n",
    "               r\"shibui\\_[0-9]{4}\":\"shibui_num\",\n",
    "               r\"slumpp\\_[0-9]{4}\":\"slumpp_num\"}"
   ]
  },
  {
   "cell_type": "code",
   "execution_count": 7,
   "metadata": {},
   "outputs": [
    {
     "name": "stderr",
     "output_type": "stream",
     "text": [
      "100%|██████████| 124883/124883 [13:42<00:00, 151.77it/s]\n"
     ]
    }
   ],
   "source": [
    "import re\n",
    "for i in tqdm.tqdm(range(len(sessions_list))):\n",
    "    for j in range(len(sessions_list[i])):\n",
    "        for key, value in replace_dic.items():\n",
    "            sessions_list[i][j] = re.sub(key, value, sessions_list[i][j])"
   ]
  },
  {
   "cell_type": "markdown",
   "metadata": {},
   "source": [
    "Replace commands that appear to be abruptly interrupted. "
   ]
  },
  {
   "cell_type": "code",
   "execution_count": 8,
   "metadata": {},
   "outputs": [],
   "source": [
    "# Patterns to be replaced\n",
    "patt_list = [\"\\.nippe\"]\n",
    "patt_list1 = [\"\\.nippo\"]\n",
    "patt_list2 = [\"bin b\",\"bin bu\",\"bin bus\",\"bin busy\",\"bin busyb\",\"bin busybo\"]\n",
    "patt_list3 = [\"Ui\",\"Uir\",\"Uiru\"]\n",
    "patt_list4 = ['bin busybox cat bin busybox w','bin busybox cat bin busybox wh','bin busybox cat bin busybox whi',\n",
    "              'bin busybox cat bin busybox whil','bin busybox cat bin busybox while','bin busybox cat bin busybox while r',\n",
    "              'bin busybox cat bin busybox while rea', 'bin busybox cat bin busybox while read']\n",
    "patt_list5 = ['bin busybox rm proc sy','bin busybox rm proc sys','bin busybox rm proc sys f',\n",
    "              'bin busybox rm proc sys fs','bin busybox rm proc sys fs b','bin busybox rm proc sys fs bi',\n",
    "              'bin busybox rm proc sys fs bin', 'bin busybox rm proc sys fs binfm','bin busybox rm proc sys fs binfmt', \n",
    "              'bin busybox rm proc sys fs binfmt_','bin busybox rm proc sys fs binfmt_m','bin busybox rm proc sys fs binfmt_mi',\n",
    "              'bin busybox rm proc sys fs binfmt_mis','bin busybox rm proc sys fs binfmt_misc']\n",
    "patt_list6 = ['bin busybox cat proc sys fs b','bin busybox cat proc sys fs bi','bin busybox cat proc sys fs binf',\n",
    "              'bin busybox cat proc sys fs binfm','bin busybox cat proc sys fs binfmt','bin busybox cat proc sys fs binfmt_',\n",
    "              'bin busybox cat proc sys fs binfmt_m','bin busybox cat proc sys fs binfmt_mi','bin busybox cat proc sys fs binfmt_misc']\n",
    "patt_list7 = ['sys fs c',\"sys fs cg\",\"sys fs cgro\",\"sys fs cgrou\",\"sys fs cgroup b\",\"sys fs cgroup blki\"]\n",
    "patt_list8 = ['sys fs f','sys fs fu','sys fs fus','sys fs fuse','sys fs fuse c','sys fs fuse co',\n",
    "              'sys fs fuse con','sys fs fuse conn','sys fs fuse conne','sys fs fuse connec','sys fs fuse connect',\n",
    "              'sys fs fuse connecti','sys fs fuse connectio','sys fs fuse connection']\n",
    "patt_list9 = ['cgroup p','cgroup pe','cgroup perf','cgroup perf_','cgroup perf_e',\n",
    "              'cgroup perf_eve','cgroup perf_even']\n",
    "patt_list10 = ['\\.hum','\\.huma']\n",
    "\n",
    "patt_all = [patt_list,patt_list1,patt_list2,patt_list3,patt_list4,patt_list5,patt_list6,patt_list7,patt_list8,patt_list9,patt_list10]"
   ]
  },
  {
   "cell_type": "code",
   "execution_count": 9,
   "metadata": {},
   "outputs": [],
   "source": [
    "# List of strings corresponding to replacements of patterns in patt_all \n",
    "replace_list = ['.nipped','.nippon','bin busybox','Uirusu',\n",
    "                'bin busybox cat bin busybox while read i',\n",
    "                'bin busybox rm proc sys fs binfmt_misc .',\n",
    "                'bin busybox cat proc sys fs binfmt_misc .',\n",
    "                'sys fs cgroup blkio',\n",
    "                'sys fs fuse connections','cgroup perf_event',\n",
    "                '.human']"
   ]
  },
  {
   "cell_type": "code",
   "execution_count": 10,
   "metadata": {},
   "outputs": [
    {
     "name": "stderr",
     "output_type": "stream",
     "text": [
      "100%|██████████| 124883/124883 [00:55<00:00, 2260.09it/s]\n"
     ]
    }
   ],
   "source": [
    "# Replace cut commands with replace_list\n",
    "for i in tqdm.tqdm(range(len(sessions_list))):\n",
    "    for k in range(len(patt_all)):\n",
    "        for l in range(len(patt_all[k])):\n",
    "            patt = re.compile(\"(?<!\\w)\" + patt_all[k][l] + \"(?!\\w)$\")\n",
    "            j = len(sessions_list[i])-1\n",
    "            if re.search(patt,sessions_list[i][j]):\n",
    "                sessions_list[i][j] = re.sub(patt, replace_list[k], sessions_list[i][j])"
   ]
  },
  {
   "cell_type": "markdown",
   "metadata": {},
   "source": [
    "Replace random HEX strings."
   ]
  },
  {
   "cell_type": "code",
   "execution_count": 11,
   "metadata": {},
   "outputs": [
    {
     "name": "stderr",
     "output_type": "stream",
     "text": [
      "100%|██████████| 124883/124883 [04:23<00:00, 474.74it/s]\n"
     ]
    }
   ],
   "source": [
    "replacements = {r\"(?<!\\.)\\bx[a-fA-F0-9]{2}\\b(?!\\.)\": \" HEX \"}\n",
    "#iterate throught corpus\n",
    "for i in tqdm.tqdm(range(len(sessions_list))):\n",
    "    for j in range(len(sessions_list[i])):\n",
    "        #iterate through replacement patters\n",
    "        for key, value in replacements.items():\n",
    "            text_test = re.sub(key, value, sessions_list[i][j])\n",
    "            while text_test.startswith(\" HEX \"): \n",
    "                text_test = text_test[1:] \n",
    "            while text_test.endswith(\" HEX \"):\n",
    "                text_test = text_test[:-1] \n",
    "        text_test = re.sub(' +', ' ', text_test) # detect double white spaces and substitute with single space\n",
    "        sessions_list[i][j] = text_test"
   ]
  },
  {
   "cell_type": "markdown",
   "metadata": {},
   "source": [
    "Obtain the filtered corpus (divided into sessions and commands). "
   ]
  },
  {
   "cell_type": "code",
   "execution_count": 12,
   "metadata": {},
   "outputs": [],
   "source": [
    "commands_list = []\n",
    "corpus = []\n",
    "for session in sessions_list:\n",
    "    corpus.append([])\n",
    "    for command in session:\n",
    "        c = command.split(' ')\n",
    "        corpus[-1] += [c]\n",
    "        commands_list += [c]"
   ]
  },
  {
   "cell_type": "markdown",
   "metadata": {},
   "source": [
    "Obtain the dictionary from the list of commands. "
   ]
  },
  {
   "cell_type": "code",
   "execution_count": 13,
   "metadata": {},
   "outputs": [],
   "source": [
    "from gensim.corpora import Dictionary\n",
    "dictionary = Dictionary(commands_list) "
   ]
  },
  {
   "cell_type": "markdown",
   "metadata": {},
   "source": [
    "Filter uncommon strings or very common strings:"
   ]
  },
  {
   "cell_type": "code",
   "execution_count": 14,
   "metadata": {},
   "outputs": [],
   "source": [
    "dictionary.filter_extremes(no_below=20, no_above=0.1)"
   ]
  },
  {
   "cell_type": "markdown",
   "metadata": {},
   "source": [
    "Obtain the mapping to words to numbers and vice-versa:"
   ]
  },
  {
   "cell_type": "code",
   "execution_count": 15,
   "metadata": {},
   "outputs": [],
   "source": [
    "word_map = {}\n",
    "for w in range(len(dictionary)):\n",
    "    word_map[w] = dictionary[w]\n",
    "    word_map[dictionary[w]] = w"
   ]
  },
  {
   "cell_type": "markdown",
   "metadata": {},
   "source": [
    "Transform the words into integers (as required by `gensim` and `lda_clust`):"
   ]
  },
  {
   "cell_type": "code",
   "execution_count": 16,
   "metadata": {},
   "outputs": [],
   "source": [
    "W = {}\n",
    "i = 0\n",
    "for session in corpus:\n",
    "    W[i] = {}\n",
    "    j = 0\n",
    "    for command in session:\n",
    "        W[i][j] = []\n",
    "        for word in command:\n",
    "            try:\n",
    "                W[i][j] += [word_map[word]]\n",
    "            except:\n",
    "                continue\n",
    "        if len(W[i][j]) > 0:\n",
    "            j += 1\n",
    "    if len(W[i]) > 0:\n",
    "        i += 1"
   ]
  },
  {
   "cell_type": "markdown",
   "metadata": {},
   "source": [
    "Only retain *unique* sessions:"
   ]
  },
  {
   "cell_type": "code",
   "execution_count": 17,
   "metadata": {},
   "outputs": [],
   "source": [
    "from collections import Counter\n",
    "session_counter = {}\n",
    "rm_list = []\n",
    "sessions = []\n",
    "for s in W:\n",
    "    session = []\n",
    "    for c in W[s]:\n",
    "        session.append(' '.join(str(x) for x in W[s][c]))\n",
    "    session = ' '.join(str(x) for x in session[-1])\n",
    "    session = session.strip(' ')\n",
    "    sessions += [session]\n",
    "    if session in session_counter:\n",
    "        session_counter[session] += 1\n",
    "        rm_list += [s]\n",
    "    else:\n",
    "        session_counter[session] = 1"
   ]
  },
  {
   "cell_type": "code",
   "execution_count": 18,
   "metadata": {},
   "outputs": [],
   "source": [
    "for s in rm_list:\n",
    "    del W[s]"
   ]
  },
  {
   "cell_type": "markdown",
   "metadata": {},
   "source": [
    "Adjust the indices in the dictionary `W` after removing the redundant sessions."
   ]
  },
  {
   "cell_type": "code",
   "execution_count": 19,
   "metadata": {},
   "outputs": [],
   "source": [
    "W_filter = {}\n",
    "j = 0\n",
    "for key in W:\n",
    "    W_filter[j] = W[key]\n",
    "    j += 1\n",
    "    \n",
    "del W"
   ]
  },
  {
   "cell_type": "markdown",
   "metadata": {},
   "source": [
    "Save the output."
   ]
  },
  {
   "cell_type": "code",
   "execution_count": 20,
   "metadata": {},
   "outputs": [],
   "source": [
    "import pickle\n",
    "with open('../data/W.pkl', 'wb') as f:\n",
    "    pickle.dump(W_filter, f)"
   ]
  },
  {
   "cell_type": "code",
   "execution_count": 21,
   "metadata": {},
   "outputs": [],
   "source": [
    "with open('../data/word_map.pkl', 'wb') as f:\n",
    "    pickle.dump(word_map, f)"
   ]
  }
 ],
 "metadata": {
  "kernelspec": {
   "display_name": "Python 3",
   "language": "python",
   "name": "python3"
  },
  "language_info": {
   "codemirror_mode": {
    "name": "ipython",
    "version": 3
   },
   "file_extension": ".py",
   "mimetype": "text/x-python",
   "name": "python",
   "nbconvert_exporter": "python",
   "pygments_lexer": "ipython3",
   "version": "3.6.9"
  }
 },
 "nbformat": 4,
 "nbformat_minor": 4
}
